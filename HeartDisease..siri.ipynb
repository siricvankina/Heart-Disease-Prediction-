{
 "cells": [
  {
   "cell_type": "code",
   "execution_count": 1,
   "id": "c0a5bfbe",
   "metadata": {},
   "outputs": [],
   "source": [
    "from sklearn.cluster import KMeans\n",
    "from sklearn import preprocessing\n",
    "from sklearn.metrics import accuracy_score\n"
   ]
  },
  {
   "cell_type": "code",
   "execution_count": 2,
   "id": "3c59c381",
   "metadata": {},
   "outputs": [],
   "source": [
    "import numpy as np\n",
    "import pandas as pd"
   ]
  },
  {
   "cell_type": "markdown",
   "id": "480fafcb",
   "metadata": {},
   "source": [
    "A)In this question, we work with a simplified version of Heart dataset. Read the dataset file “Heart_short.csv” from github, and assign it to a Pandas DataFrame:"
   ]
  },
  {
   "cell_type": "code",
   "execution_count": 3,
   "id": "37124cbf",
   "metadata": {},
   "outputs": [],
   "source": [
    "heart_df  = pd.read_csv(\"https://github.com/mpourhoma/CS4661/raw/master/Heart_short.csv\")"
   ]
  },
  {
   "cell_type": "code",
   "execution_count": 4,
   "id": "480c332f",
   "metadata": {},
   "outputs": [
    {
     "data": {
      "text/html": [
       "<div>\n",
       "<style scoped>\n",
       "    .dataframe tbody tr th:only-of-type {\n",
       "        vertical-align: middle;\n",
       "    }\n",
       "\n",
       "    .dataframe tbody tr th {\n",
       "        vertical-align: top;\n",
       "    }\n",
       "\n",
       "    .dataframe thead th {\n",
       "        text-align: right;\n",
       "    }\n",
       "</style>\n",
       "<table border=\"1\" class=\"dataframe\">\n",
       "  <thead>\n",
       "    <tr style=\"text-align: right;\">\n",
       "      <th></th>\n",
       "      <th>Age</th>\n",
       "      <th>RestBP</th>\n",
       "      <th>Chol</th>\n",
       "      <th>RestECG</th>\n",
       "      <th>MaxHR</th>\n",
       "      <th>Oldpeak</th>\n",
       "      <th>AHD</th>\n",
       "    </tr>\n",
       "  </thead>\n",
       "  <tbody>\n",
       "    <tr>\n",
       "      <th>0</th>\n",
       "      <td>63</td>\n",
       "      <td>145</td>\n",
       "      <td>233</td>\n",
       "      <td>2</td>\n",
       "      <td>150</td>\n",
       "      <td>2.3</td>\n",
       "      <td>No</td>\n",
       "    </tr>\n",
       "    <tr>\n",
       "      <th>1</th>\n",
       "      <td>67</td>\n",
       "      <td>160</td>\n",
       "      <td>286</td>\n",
       "      <td>2</td>\n",
       "      <td>108</td>\n",
       "      <td>1.5</td>\n",
       "      <td>Yes</td>\n",
       "    </tr>\n",
       "    <tr>\n",
       "      <th>2</th>\n",
       "      <td>67</td>\n",
       "      <td>120</td>\n",
       "      <td>229</td>\n",
       "      <td>2</td>\n",
       "      <td>129</td>\n",
       "      <td>2.6</td>\n",
       "      <td>Yes</td>\n",
       "    </tr>\n",
       "    <tr>\n",
       "      <th>3</th>\n",
       "      <td>37</td>\n",
       "      <td>130</td>\n",
       "      <td>250</td>\n",
       "      <td>0</td>\n",
       "      <td>187</td>\n",
       "      <td>3.5</td>\n",
       "      <td>No</td>\n",
       "    </tr>\n",
       "    <tr>\n",
       "      <th>4</th>\n",
       "      <td>41</td>\n",
       "      <td>130</td>\n",
       "      <td>204</td>\n",
       "      <td>2</td>\n",
       "      <td>172</td>\n",
       "      <td>1.4</td>\n",
       "      <td>No</td>\n",
       "    </tr>\n",
       "  </tbody>\n",
       "</table>\n",
       "</div>"
      ],
      "text/plain": [
       "   Age  RestBP  Chol  RestECG  MaxHR  Oldpeak  AHD\n",
       "0   63     145   233        2    150      2.3   No\n",
       "1   67     160   286        2    108      1.5  Yes\n",
       "2   67     120   229        2    129      2.6  Yes\n",
       "3   37     130   250        0    187      3.5   No\n",
       "4   41     130   204        2    172      1.4   No"
      ]
     },
     "execution_count": 4,
     "metadata": {},
     "output_type": "execute_result"
    }
   ],
   "source": [
    "heart_df.head()"
   ]
  },
  {
   "cell_type": "markdown",
   "id": "6ce65744",
   "metadata": {},
   "source": [
    "B)Generate the feature matrix and label vector (AHD). Then, normalize (scale) the features."
   ]
  },
  {
   "cell_type": "code",
   "execution_count": 5,
   "id": "e7c43c07",
   "metadata": {},
   "outputs": [],
   "source": [
    "feature_cols=['Age','RestBP','Chol','RestECG','MaxHR','Oldpeak']"
   ]
  },
  {
   "cell_type": "code",
   "execution_count": 6,
   "id": "76a3686a",
   "metadata": {},
   "outputs": [],
   "source": [
    "X=heart_df[feature_cols]\n",
    "y=heart_df['AHD']\n"
   ]
  },
  {
   "cell_type": "code",
   "execution_count": 7,
   "id": "615d49a5",
   "metadata": {},
   "outputs": [
    {
     "name": "stdout",
     "output_type": "stream",
     "text": [
      "     Age  RestBP  Chol  RestECG  MaxHR  Oldpeak\n",
      "0     63     145   233        2    150      2.3\n",
      "1     67     160   286        2    108      1.5\n",
      "2     67     120   229        2    129      2.6\n",
      "3     37     130   250        0    187      3.5\n",
      "4     41     130   204        2    172      1.4\n",
      "..   ...     ...   ...      ...    ...      ...\n",
      "276   45     110   264        0    132      1.2\n",
      "277   68     144   193        0    141      3.4\n",
      "278   57     130   131        0    115      1.2\n",
      "279   57     130   236        2    174      0.0\n",
      "280   38     138   175        0    173      0.0\n",
      "\n",
      "[281 rows x 6 columns]\n"
     ]
    }
   ],
   "source": [
    "print(X)\n"
   ]
  },
  {
   "cell_type": "code",
   "execution_count": 8,
   "id": "fa920843",
   "metadata": {},
   "outputs": [
    {
     "name": "stdout",
     "output_type": "stream",
     "text": [
      "0       No\n",
      "1      Yes\n",
      "2      Yes\n",
      "3       No\n",
      "4       No\n",
      "      ... \n",
      "276    Yes\n",
      "277    Yes\n",
      "278    Yes\n",
      "279    Yes\n",
      "280     No\n",
      "Name: AHD, Length: 281, dtype: object\n"
     ]
    }
   ],
   "source": [
    "print(y)\n"
   ]
  },
  {
   "cell_type": "code",
   "execution_count": 9,
   "id": "14387950",
   "metadata": {},
   "outputs": [
    {
     "name": "stdout",
     "output_type": "stream",
     "text": [
      "(281, 6)\n",
      "(281,)\n"
     ]
    }
   ],
   "source": [
    "print(X.shape)\n",
    "print(y.shape)"
   ]
  },
  {
   "cell_type": "code",
   "execution_count": 10,
   "id": "4de18379",
   "metadata": {},
   "outputs": [
    {
     "name": "stdout",
     "output_type": "stream",
     "text": [
      "[[ 0.94788279  0.74978425 -0.25859799  1.04743633 -0.00919313  1.13182982]\n",
      " [ 1.38542704  1.59842565  0.75330422  1.04743633 -1.84813139  0.43550978]\n",
      " [ 1.38542704 -0.6646181  -0.33496796  1.04743633 -0.92866226  1.39294984]\n",
      " ...\n",
      " [ 0.29156641 -0.09885716 -2.20603242 -0.96851989 -1.54164168  0.17438976]\n",
      " [ 0.29156641 -0.09885716 -0.2013205   1.04743633  1.04162873 -0.8700903 ]\n",
      " [-1.78676878  0.35375159 -1.36596267 -0.96851989  0.99784448 -0.8700903 ]]\n"
     ]
    }
   ],
   "source": [
    "Normalise_dt = preprocessing.scale(X)\n",
    "print(Normalise_dt)"
   ]
  },
  {
   "cell_type": "markdown",
   "id": "eabb9e48",
   "metadata": {},
   "source": [
    "C)Split the dataset into testing and training sets with the following parameters: test_size=0.25, random_state=3."
   ]
  },
  {
   "cell_type": "code",
   "execution_count": 11,
   "id": "8ca09363",
   "metadata": {},
   "outputs": [],
   "source": [
    "from sklearn.model_selection import train_test_split\n",
    "X_train, X_test, y_train, y_test = train_test_split(Normalise_dt,y,test_size=0.25,random_state=3)\n"
   ]
  },
  {
   "cell_type": "code",
   "execution_count": 12,
   "id": "034adfaa",
   "metadata": {},
   "outputs": [
    {
     "name": "stdout",
     "output_type": "stream",
     "text": [
      "(210, 6)\n",
      "(210,)\n",
      "(71, 6)\n",
      "(71,)\n"
     ]
    }
   ],
   "source": [
    "print(X_train.shape)\n",
    "print(y_train.shape)\n",
    "print(X_test.shape)\n",
    "print(y_test.shape)"
   ]
  },
  {
   "cell_type": "markdown",
   "id": "687e591b",
   "metadata": {},
   "source": [
    "D)Use Logistic Regression Classifier to predict Heart Disease occurrence based on the training/testing datasets that you built in part(c). Then, compute and report the Accuracy."
   ]
  },
  {
   "cell_type": "code",
   "execution_count": 13,
   "id": "7f613a54",
   "metadata": {},
   "outputs": [
    {
     "data": {
      "text/plain": [
       "LogisticRegression()"
      ]
     },
     "execution_count": 13,
     "metadata": {},
     "output_type": "execute_result"
    }
   ],
   "source": [
    "from sklearn.linear_model import LogisticRegression\n",
    "my_log_reg = LogisticRegression()\n",
    "my_log_reg.fit(X_train, y_train)"
   ]
  },
  {
   "cell_type": "code",
   "execution_count": 14,
   "id": "490a7a47",
   "metadata": {},
   "outputs": [],
   "source": [
    "y_predict_logreg = my_log_reg.predict(X_test)\n",
    "score_logreg = accuracy_score(y_test, y_predict_logreg)\n",
    "y_predict_prob_logreg = my_log_reg.predict_proba(X_test)"
   ]
  },
  {
   "cell_type": "code",
   "execution_count": 15,
   "id": "978ce87d",
   "metadata": {},
   "outputs": [
    {
     "name": "stdout",
     "output_type": "stream",
     "text": [
      "[0.         0.         0.02439024 0.02439024 0.04878049 0.04878049\n",
      " 0.09756098 0.09756098 0.12195122 0.12195122 0.14634146 0.14634146\n",
      " 0.2195122  0.2195122  0.29268293 0.29268293 0.3902439  0.3902439\n",
      " 0.41463415 0.41463415 0.46341463 0.46341463 0.56097561 0.56097561\n",
      " 0.68292683 0.68292683 0.70731707 0.70731707 0.73170732 0.73170732\n",
      " 1.        ]\n",
      "[0.         0.03333333 0.03333333 0.33333333 0.33333333 0.36666667\n",
      " 0.36666667 0.4        0.4        0.53333333 0.53333333 0.6\n",
      " 0.6        0.63333333 0.63333333 0.7        0.7        0.73333333\n",
      " 0.73333333 0.76666667 0.76666667 0.83333333 0.83333333 0.86666667\n",
      " 0.86666667 0.93333333 0.93333333 0.96666667 0.96666667 1.\n",
      " 1.        ]\n"
     ]
    }
   ],
   "source": [
    "from sklearn import metrics\n",
    "fpr, tpr, thresholds = metrics.roc_curve(y_test, y_predict_prob_logreg[ :,1], pos_label = \"Yes\")\n",
    "\n",
    "print(fpr)\n",
    "print(tpr)"
   ]
  },
  {
   "cell_type": "code",
   "execution_count": 16,
   "id": "8c445e77",
   "metadata": {},
   "outputs": [
    {
     "name": "stdout",
     "output_type": "stream",
     "text": [
      "0.7650406504065042\n"
     ]
    }
   ],
   "source": [
    "Accuracy = metrics.auc(fpr,tpr)\n",
    "print(Accuracy)\n"
   ]
  },
  {
   "cell_type": "markdown",
   "id": "bb9c8d6a",
   "metadata": {},
   "source": [
    "Now, Use Logistic Regression Classifier to predict the probability of Heart Disease based on the training/testing datasets that you built in part (c) (you have to use “my_logreg.predict_proba” method rather than “my_logreg.predict”). Then, Plot the Roc Curve for this classifier, and also Compute the AUC (Area Under Curve for ROC)."
   ]
  },
  {
   "cell_type": "code",
   "execution_count": 17,
   "id": "c2cb8da0",
   "metadata": {},
   "outputs": [
    {
     "data": {
      "image/png": "[encoded data removed]",
      "text/plain": [
       "<Figure size 432x288 with 1 Axes>"
      ]
     },
     "metadata": {
      "needs_background": "light"
     },
     "output_type": "display_data"
    }
   ],
   "source": [
    "import matplotlib.pyplot as plot\n",
    "get_ipython().run_line_magic('matplotlib', 'inline')\n",
    "\n",
    "plot.figure()\n",
    "\n",
    "plot.plot(fpr,tpr,color='green', label = \"ROC Curve(area = %0.2f)\" %Accuracy)\n",
    "\n",
    "plot.plot([0,1], [0,1], color = 'purple', linestyle='--')\n",
    "\n",
    "\n",
    "\n",
    "plot.xlabel(\"False  rate\")\n",
    "plot.ylabel(\"True rate\")\n",
    "plot.title(\"ROC CURVE\")\n",
    "plot.legend(loc=\"lower right\")\n",
    "\n",
    "plot.show()\n"
   ]
  },
  {
   "cell_type": "code",
   "execution_count": null,
   "id": "dcf3a285",
   "metadata": {},
   "outputs": [],
   "source": []
  }
 ],
 "metadata": {
  "interpreter": {
   "hash": "40d3a090f54c6569ab1632332b64b2c03c39dcf918b08424e98f38b5ae0af88f"
  },
  "kernelspec": {
   "display_name": "Python 3",
   "language": "python",
   "name": "python3"
  },
  "language_info": {
   "codemirror_mode": {
    "name": "ipython",
    "version": 3
   },
   "file_extension": ".py",
   "mimetype": "text/x-python",
   "name": "python",
   "nbconvert_exporter": "python",
   "pygments_lexer": "ipython3",
   "version": "3.8.8"
  }
 },
 "nbformat": 4,
 "nbformat_minor": 5
}
